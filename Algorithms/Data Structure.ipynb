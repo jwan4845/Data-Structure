{
 "cells": [
  {
   "cell_type": "markdown",
   "metadata": {},
   "source": [
    "# Data Structures"
   ]
  },
  {
   "cell_type": "markdown",
   "metadata": {},
   "source": [
    "## 1. Lists -- Linked Lists"
   ]
  },
  {
   "cell_type": "code",
   "execution_count": 1,
   "metadata": {},
   "outputs": [],
   "source": [
    "class Node:\n",
    "    def __init__(self, data):\n",
    "        self.data = data\n",
    "        self.prev = None\n",
    "        self.next = None"
   ]
  },
  {
   "cell_type": "code",
   "execution_count": 18,
   "metadata": {},
   "outputs": [],
   "source": [
    "class LinkedList:\n",
    "    def __init__(self):           \n",
    "        self.head = None\n",
    "        self.tail = None\n",
    "        self.length = 0\n",
    "        \n",
    "    def append(self, data):\n",
    "        new_node = Node(data)\n",
    "        \n",
    "        if self.length == 0:\n",
    "            self.head = self.tail = new_node  \n",
    "        else:\n",
    "            self.tail.next = new_node\n",
    "            new_node.prev = self.tail\n",
    "            self.tail = new_node\n",
    "        self.length += 1\n",
    "        \n",
    "    def __iter__(self):\n",
    "        self._iter_node = self.head\n",
    "        return self\n",
    "            \n",
    "    def __next__(self):\n",
    "        if self._iter_node is None:\n",
    "            raise StopIteration\n",
    "        ret = self._iter_node.data\n",
    "        self._iter_node = self._iter_node.next\n",
    "        return ret\n",
    "    \n",
    "    def prepend(self, data):\n",
    "        new_node = Node(data)\n",
    "        \n",
    "        if self.length == 0:\n",
    "            self.head = self.tail = new_node\n",
    "        else:\n",
    "            self.head.prev = new_node\n",
    "            new_node.next = self.head\n",
    "            self.head = new_node\n",
    "        self.length += 1\n",
    "        \n",
    "    def __len__(self):\n",
    "        \n",
    "        return self.length\n",
    "        \n",
    "    def __str__(self):\n",
    "        \n",
    "        return str([value for value in self])  \n",
    "        "
   ]
  },
  {
   "cell_type": "code",
   "execution_count": 20,
   "metadata": {},
   "outputs": [
    {
     "name": "stdout",
     "output_type": "stream",
     "text": [
      "[]\n",
      "[7] 1\n",
      "[7, 5] 2\n",
      "[7, 5, 9] 3\n"
     ]
    }
   ],
   "source": [
    "lst = LinkedList()\n",
    "print(lst)\n",
    "\n",
    "lst.append(7)\n",
    "print(lst, len(lst))\n",
    "\n",
    "lst.append(5)\n",
    "print(lst, len(lst))\n",
    "\n",
    "lst.append(9)\n",
    "print(lst, len(lst))"
   ]
  },
  {
   "cell_type": "markdown",
   "metadata": {},
   "source": [
    "## 2. Queues\n",
    "\n",
    "Fisrt in Fisrt out data structure (FIFO).\n",
    "\n",
    "Queue is opposite the list, the Head of a list is the back of the queue, and vice verse.\n"
   ]
  },
  {
   "cell_type": "code",
   "execution_count": 25,
   "metadata": {},
   "outputs": [],
   "source": [
    "class Queue(LinkedList):\n",
    "    \n",
    "    def enqueue(self,data):\n",
    "        self.prepend(data)\n",
    "        \n",
    "    def get_front(self):\n",
    "        return self.tail.data\n",
    "    \n",
    "    def dequeue(self):\n",
    "        ret = self.tail.data\n",
    "        \n",
    "        if self.length ==1:\n",
    "            self.head = self.tail = None\n",
    "        else:\n",
    "            self.tail = self.tail.prev\n",
    "            self.tail.next = None\n",
    "        self.length -= 1\n",
    "        \n",
    "        return ret"
   ]
  },
  {
   "cell_type": "code",
   "execution_count": 26,
   "metadata": {},
   "outputs": [
    {
     "name": "stdout",
     "output_type": "stream",
     "text": [
      "[4, 3, 2, 1]\n"
     ]
    }
   ],
   "source": [
    "queue = Queue()\n",
    "\n",
    "for i in [1,2,3,4]:\n",
    "    queue.enqueue(i)\n",
    "print(queue)    "
   ]
  },
  {
   "cell_type": "code",
   "execution_count": 27,
   "metadata": {},
   "outputs": [
    {
     "data": {
      "text/plain": [
       "1"
      ]
     },
     "execution_count": 27,
     "metadata": {},
     "output_type": "execute_result"
    }
   ],
   "source": [
    "front = queue.dequeue()\n",
    "front"
   ]
  },
  {
   "cell_type": "markdown",
   "metadata": {},
   "source": [
    "**Example of the usage of queues**\n",
    "\n",
    "Our queue implementation is now complete. Queues have many applications. We use them in the implementation of several algorithms, such as calculating the fastest way to go from one location to another on a map.\n",
    "\n",
    "Another important application of queues is scheduling requests on a single shared resource such as a printer or a CPU. Imagine that we have a computer with a single CPU. Tasks need processing but we can only process one task at a time. We're assuming that the system is non-preemptive, which means that once a task is started, it won't be interrupted until it's finished.\n",
    "\n",
    "There are several algorithms for scheduling the tasks in a non-preemptive system. One of them is FCFS, which stands for first come, first served. The idea is that tasks are processed in the same order as they arrive — like people in a supermarket.\n",
    "\n",
    "Since queues are FIFO (first in, first out) data structures, they are ideal for implementing FCFS process scheduling. In practice, when a task arrives, if the CPU is free, then the task immediately undergoes processing. Otherwise, the task gets added to a queue. Whenever the CPU finishes processing a task, the task at the front of the queue gets processed next."
   ]
  },
  {
   "cell_type": "code",
   "execution_count": 28,
   "metadata": {},
   "outputs": [],
   "source": [
    "import pandas as pd\n",
    "processes = pd.read_csv('processes.csv', index_col = 'Pid')\n",
    "processes.shape\n",
    "\n",
    "cur_time = 0\n",
    "num_processes_done = 0\n",
    "wait_queue = Queue()\n",
    "cur_pid = None\n",
    "\n",
    "# Copy and paste tempalte code here\n",
    "while num_processes_done < processes.shape[0]:\n",
    "    if cur_pid is not None:\n",
    "        if processes.loc[cur_pid,'Start']+processes.loc[cur_pid, 'Duration'] == cur_time:\n",
    "            processes.loc[cur_pid, 'End'] = cur_time\n",
    "            cur_pid = None\n",
    "            num_processes_done +=1\n",
    "    \n",
    "    ready_processes = processes[processes['Arrival'] == cur_time]\n",
    "    for pid in ready_processes.index:\n",
    "        wait_queue.enqueue(pid)\n",
    "        \n",
    "    if cur_pid is None and len(wait_queue)>0:\n",
    "        cur_pid = wait_queue.dequeue()\n",
    "        processes.loc[cur_pid,'Start'] = cur_time\n",
    "        \n",
    "    cur_time += 1 "
   ]
  },
  {
   "cell_type": "code",
   "execution_count": 29,
   "metadata": {},
   "outputs": [
    {
     "data": {
      "text/html": [
       "<div>\n",
       "<style scoped>\n",
       "    .dataframe tbody tr th:only-of-type {\n",
       "        vertical-align: middle;\n",
       "    }\n",
       "\n",
       "    .dataframe tbody tr th {\n",
       "        vertical-align: top;\n",
       "    }\n",
       "\n",
       "    .dataframe thead th {\n",
       "        text-align: right;\n",
       "    }\n",
       "</style>\n",
       "<table border=\"1\" class=\"dataframe\">\n",
       "  <thead>\n",
       "    <tr style=\"text-align: right;\">\n",
       "      <th></th>\n",
       "      <th>Arrival</th>\n",
       "      <th>Duration</th>\n",
       "      <th>Start</th>\n",
       "      <th>End</th>\n",
       "    </tr>\n",
       "    <tr>\n",
       "      <th>Pid</th>\n",
       "      <th></th>\n",
       "      <th></th>\n",
       "      <th></th>\n",
       "      <th></th>\n",
       "    </tr>\n",
       "  </thead>\n",
       "  <tbody>\n",
       "    <tr>\n",
       "      <th>P1</th>\n",
       "      <td>2</td>\n",
       "      <td>2</td>\n",
       "      <td>2.0</td>\n",
       "      <td>4.0</td>\n",
       "    </tr>\n",
       "    <tr>\n",
       "      <th>P2</th>\n",
       "      <td>0</td>\n",
       "      <td>1</td>\n",
       "      <td>0.0</td>\n",
       "      <td>1.0</td>\n",
       "    </tr>\n",
       "    <tr>\n",
       "      <th>P3</th>\n",
       "      <td>3</td>\n",
       "      <td>3</td>\n",
       "      <td>4.0</td>\n",
       "      <td>7.0</td>\n",
       "    </tr>\n",
       "    <tr>\n",
       "      <th>P4</th>\n",
       "      <td>3</td>\n",
       "      <td>5</td>\n",
       "      <td>7.0</td>\n",
       "      <td>12.0</td>\n",
       "    </tr>\n",
       "    <tr>\n",
       "      <th>P5</th>\n",
       "      <td>4</td>\n",
       "      <td>4</td>\n",
       "      <td>12.0</td>\n",
       "      <td>16.0</td>\n",
       "    </tr>\n",
       "  </tbody>\n",
       "</table>\n",
       "</div>"
      ],
      "text/plain": [
       "     Arrival  Duration  Start   End\n",
       "Pid                                \n",
       "P1         2         2    2.0   4.0\n",
       "P2         0         1    0.0   1.0\n",
       "P3         3         3    4.0   7.0\n",
       "P4         3         5    7.0  12.0\n",
       "P5         4         4   12.0  16.0"
      ]
     },
     "execution_count": 29,
     "metadata": {},
     "output_type": "execute_result"
    }
   ],
   "source": [
    "processes.head()"
   ]
  },
  {
   "cell_type": "markdown",
   "metadata": {},
   "source": [
    "## 3. stacks\n",
    "\n",
    "Stacks work in the opposite manner when it comes to processing order. Imagine a restaurant with a single person washing dishes. Dishes get stacked into a single pile. To wash a dish, the washer takes the dish from the top of the stack and cleans it. Since new plates get put on the top of the pile, the washer cleans those plates that arrived most recently first first.\n",
    "\n",
    "In a stack, the last plate to arrive will be the first one washed. For this reason, in programming, we call stacks a **last-in, first-out (LIFO)** data structure."
   ]
  },
  {
   "cell_type": "code",
   "execution_count": 30,
   "metadata": {},
   "outputs": [],
   "source": [
    "class Stack(LinkedList):\n",
    "    def push(self,data):\n",
    "        self.append(data)\n",
    "    \n",
    "    # release the last data first\n",
    "    def peek(self):\n",
    "        return self.tail.data\n",
    "    \n",
    "    # a method that removes and retrieves the top of the stack -- pop\n",
    "    def pop(self):\n",
    "        ret = self.tail.data\n",
    "        if self.length ==1:\n",
    "            self.head = self.tail = None\n",
    "        else:\n",
    "            self.tail = self.tail.prev\n",
    "            self.tail.next = None\n",
    "        self.length -= 1\n",
    "        return ret"
   ]
  },
  {
   "cell_type": "code",
   "execution_count": 31,
   "metadata": {},
   "outputs": [
    {
     "name": "stdout",
     "output_type": "stream",
     "text": [
      "Original stack:  [1, 3, 5, 7, 9]\n",
      "The first pop value:  9\n",
      "Remain peek value:  7\n"
     ]
    }
   ],
   "source": [
    "stack = Stack()\n",
    "for i in [1,3,5,7,9]:\n",
    "    stack.push(i)\n",
    "print('Original stack: ', stack)\n",
    "\n",
    "pop = stack.pop()\n",
    "print('The first pop value: ', pop)\n",
    "\n",
    "peek = stack.peek()\n",
    "print('Remain peek value: ', peek)\n",
    "    "
   ]
  },
  {
   "cell_type": "markdown",
   "metadata": {},
   "source": [
    "use the LIFO algorithm to handle the previous task"
   ]
  },
  {
   "cell_type": "code",
   "execution_count": 33,
   "metadata": {},
   "outputs": [],
   "source": [
    "cur_time = 0\n",
    "num_processes_done = 0\n",
    "wait_stack = Stack()\n",
    "cur_pid = None\n",
    "\n",
    "while num_processes_done < processes.shape[0]:\n",
    "    if cur_pid is not None:\n",
    "        if processes.loc[cur_pid, 'LIFO Start'] + processes.loc[cur_pid, 'Duration'] == cur_time:\n",
    "            processes.loc[cur_pid,'LIFO End'] = cur_time\n",
    "            cur_pid = None\n",
    "            num_processes_done += 1\n",
    "     \n",
    "    ready_processes = processes[processes['Arrival'] == cur_time]\n",
    "    \n",
    "    for idx in ready_processes.index:\n",
    "        wait_stack.push(idx)\n",
    "        \n",
    "    if cur_pid is None and len(wait_stack) > 0:\n",
    "        cur_pid = wait_stack.pop()\n",
    "        processes.loc[cur_pid, 'LIFO Start'] = cur_time\n",
    "        \n",
    "    cur_time += 1    "
   ]
  },
  {
   "cell_type": "code",
   "execution_count": 34,
   "metadata": {},
   "outputs": [
    {
     "data": {
      "text/html": [
       "<div>\n",
       "<style scoped>\n",
       "    .dataframe tbody tr th:only-of-type {\n",
       "        vertical-align: middle;\n",
       "    }\n",
       "\n",
       "    .dataframe tbody tr th {\n",
       "        vertical-align: top;\n",
       "    }\n",
       "\n",
       "    .dataframe thead th {\n",
       "        text-align: right;\n",
       "    }\n",
       "</style>\n",
       "<table border=\"1\" class=\"dataframe\">\n",
       "  <thead>\n",
       "    <tr style=\"text-align: right;\">\n",
       "      <th></th>\n",
       "      <th>Arrival</th>\n",
       "      <th>Duration</th>\n",
       "      <th>Start</th>\n",
       "      <th>End</th>\n",
       "      <th>LIFO Start</th>\n",
       "      <th>LIFO End</th>\n",
       "    </tr>\n",
       "    <tr>\n",
       "      <th>Pid</th>\n",
       "      <th></th>\n",
       "      <th></th>\n",
       "      <th></th>\n",
       "      <th></th>\n",
       "      <th></th>\n",
       "      <th></th>\n",
       "    </tr>\n",
       "  </thead>\n",
       "  <tbody>\n",
       "    <tr>\n",
       "      <th>P1</th>\n",
       "      <td>2</td>\n",
       "      <td>2</td>\n",
       "      <td>2.0</td>\n",
       "      <td>4.0</td>\n",
       "      <td>2.0</td>\n",
       "      <td>4.0</td>\n",
       "    </tr>\n",
       "    <tr>\n",
       "      <th>P2</th>\n",
       "      <td>0</td>\n",
       "      <td>1</td>\n",
       "      <td>0.0</td>\n",
       "      <td>1.0</td>\n",
       "      <td>0.0</td>\n",
       "      <td>1.0</td>\n",
       "    </tr>\n",
       "    <tr>\n",
       "      <th>P3</th>\n",
       "      <td>3</td>\n",
       "      <td>3</td>\n",
       "      <td>4.0</td>\n",
       "      <td>7.0</td>\n",
       "      <td>13.0</td>\n",
       "      <td>16.0</td>\n",
       "    </tr>\n",
       "    <tr>\n",
       "      <th>P4</th>\n",
       "      <td>3</td>\n",
       "      <td>5</td>\n",
       "      <td>7.0</td>\n",
       "      <td>12.0</td>\n",
       "      <td>8.0</td>\n",
       "      <td>13.0</td>\n",
       "    </tr>\n",
       "    <tr>\n",
       "      <th>P5</th>\n",
       "      <td>4</td>\n",
       "      <td>4</td>\n",
       "      <td>12.0</td>\n",
       "      <td>16.0</td>\n",
       "      <td>4.0</td>\n",
       "      <td>8.0</td>\n",
       "    </tr>\n",
       "  </tbody>\n",
       "</table>\n",
       "</div>"
      ],
      "text/plain": [
       "     Arrival  Duration  Start   End  LIFO Start  LIFO End\n",
       "Pid                                                      \n",
       "P1         2         2    2.0   4.0         2.0       4.0\n",
       "P2         0         1    0.0   1.0         0.0       1.0\n",
       "P3         3         3    4.0   7.0        13.0      16.0\n",
       "P4         3         5    7.0  12.0         8.0      13.0\n",
       "P5         4         4   12.0  16.0         4.0       8.0"
      ]
     },
     "execution_count": 34,
     "metadata": {},
     "output_type": "execute_result"
    }
   ],
   "source": [
    "processes.head()"
   ]
  },
  {
   "cell_type": "code",
   "execution_count": 37,
   "metadata": {},
   "outputs": [
    {
     "name": "stdout",
     "output_type": "stream",
     "text": [
      "LIFO Algorithm average wait time is:  250.6\n",
      "FIFO Algorithm average wait time is:  248.55238095238096\n"
     ]
    }
   ],
   "source": [
    "processes['LIFO Wait'] = processes['LIFO Start'] - processes['Arrival']\n",
    "LIFO_average_wait_time = processes['LIFO Wait'].mean()\n",
    "print('LIFO Algorithm average wait time is: ',LIFO_average_wait_time )\n",
    "\n",
    "processes['FIFO Wait'] = processes['Start'] - processes['Arrival']\n",
    "FIFO_average_wait_time = processes['FIFO Wait'].mean()\n",
    "print('FIFO Algorithm average wait time is: ',FIFO_average_wait_time )"
   ]
  },
  {
   "cell_type": "markdown",
   "metadata": {},
   "source": [
    "## 4. Dictionary\n",
    "\n",
    "If mapped to a hash table with five buckets, they both go to bucket index 2 since both 0141439742 % 5 and 0375757422 % 5 are equal to 2. We call this a **collision**. There are several ways to overcome this. We're going to use an idea called **separate chaining**.\n",
    "The process of transforming an object into an integer is called **hashing**."
   ]
  },
  {
   "cell_type": "code",
   "execution_count": 70,
   "metadata": {},
   "outputs": [],
   "source": [
    "class Entry:\n",
    "    def __init__(self, key, value):\n",
    "        self.key = key\n",
    "        self.value = value\n",
    "        \n",
    "        \n",
    "class Dictionary:\n",
    "    def __init__(self, num_buckets):\n",
    "        self.num_buckets = num_buckets\n",
    "        self.buckets = [LinkedList() for _ in range(num_buckets)]\n",
    "        self.length = 0\n",
    "     \n",
    "    def _get_index(self, key):\n",
    "        hashcode = hash(key) % self.num_buckets\n",
    "        return hashcode\n",
    "     \n",
    "    def put(self, key, value):\n",
    "        index = self._get_index(key)\n",
    "        found_key = False\n",
    "        for entry in self.buckets[index]:\n",
    "            if entry.key == key:\n",
    "                entry.value = value\n",
    "                found_key = True\n",
    "        if not found_key:\n",
    "            entry = Entry(key, value)\n",
    "            self.buckets[index].append(entry)\n",
    "            self.length += 1\n",
    "            \n",
    "    def get_value(self, key):\n",
    "        index = self._get_index(key)\n",
    "        for entry in self.buckets[index]:\n",
    "            if entry.key == key:\n",
    "                return entry.value\n",
    "        raise KeyError(key)\n",
    "    \n",
    "    def delete(self, key):\n",
    "        index = self._get_index(key)\n",
    "        new_bucket = LinkedList()\n",
    "        \n",
    "        for entry in self.buckets[index]:\n",
    "            if entry.key != key:\n",
    "                new_bucket.append(entry)\n",
    "        if len(new_bucket) < len(self.buckets[index]):\n",
    "            self.length -= 1\n",
    "        self.buckets[index] = new_bucket  \n",
    "        \n",
    "        \n",
    "    def __getitem__(self, key):\n",
    "        return self.get_value(key)\n",
    "        \n",
    "    def __setitem__(self, key, value):\n",
    "        return self.put(key, value)\n",
    "        \n",
    "    def __len__(self):\n",
    "        return self.length\n",
    "               "
   ]
  },
  {
   "cell_type": "code",
   "execution_count": 71,
   "metadata": {},
   "outputs": [
    {
     "data": {
      "text/plain": [
       "1"
      ]
     },
     "execution_count": 71,
     "metadata": {},
     "output_type": "execute_result"
    }
   ],
   "source": [
    "my_dict=Dictionary(5)\n",
    "my_dict.put(\"my key\", 1) \n",
    "my_dict.get_value('my key')"
   ]
  },
  {
   "cell_type": "code",
   "execution_count": 72,
   "metadata": {},
   "outputs": [
    {
     "data": {
      "text/plain": [
       "2"
      ]
     },
     "execution_count": 72,
     "metadata": {},
     "output_type": "execute_result"
    }
   ],
   "source": [
    "my_dict.put('my key', 2)\n",
    "my_dict.get_value('my key')"
   ]
  },
  {
   "cell_type": "code",
   "execution_count": 73,
   "metadata": {},
   "outputs": [
    {
     "data": {
      "text/plain": [
       "0"
      ]
     },
     "execution_count": 73,
     "metadata": {},
     "output_type": "execute_result"
    }
   ],
   "source": [
    "my_dict.delete('my key')\n",
    "my_dict.length"
   ]
  },
  {
   "cell_type": "code",
   "execution_count": 74,
   "metadata": {},
   "outputs": [
    {
     "name": "stdout",
     "output_type": "stream",
     "text": [
      "2\n",
      "1\n"
     ]
    }
   ],
   "source": [
    "my_dict = Dictionary(5)\n",
    "my_dict[\"my key\"] = 2\n",
    "print(my_dict[\"my key\"])\n",
    "print(len(my_dict))"
   ]
  },
  {
   "cell_type": "markdown",
   "metadata": {},
   "source": [
    "If we used a random hash function, each bucket would be equally likely to be selected and the expected size of each list would be the number of entries N divided by the number of buckets B:\n",
    "\n",
    "                                      N/B\n",
    "  \n",
    "We call this ratio the **load factor** of the hash table. If B > N then N / B < 1, all operations would have time complexity O(N / B) = O(1). Unfortunately, we cannot use random hash codes because we need to ensure that two instances of the same object return the same hash code.\n",
    "\n",
    "\n",
    "A lot of research has gone into developing good hash functions, making them behave like random numbers. When using the hash() function, we can often assume that the hash codes are evenly spread. Therefore, if we keep B large enough, we get constant time complexity for all dictionary operations.\n",
    "\n",
    "\n",
    "To ensure that the load factor stays below one, we need to increase the number of buckets, B, when N becomes too close to B. Since the bucket index of the entries depends on B, when we change it, we need to reinsert all entries back into the dictionary. We call this process rehashing."
   ]
  },
  {
   "cell_type": "code",
   "execution_count": null,
   "metadata": {},
   "outputs": [],
   "source": []
  }
 ],
 "metadata": {
  "kernelspec": {
   "display_name": "Python 3",
   "language": "python",
   "name": "python3"
  },
  "language_info": {
   "codemirror_mode": {
    "name": "ipython",
    "version": 3
   },
   "file_extension": ".py",
   "mimetype": "text/x-python",
   "name": "python",
   "nbconvert_exporter": "python",
   "pygments_lexer": "ipython3",
   "version": "3.8.5"
  }
 },
 "nbformat": 4,
 "nbformat_minor": 4
}
